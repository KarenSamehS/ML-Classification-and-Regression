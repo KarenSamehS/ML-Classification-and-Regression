{
 "cells": [
  {
   "cell_type": "code",
   "execution_count": 1,
   "id": "96691884",
   "metadata": {
    "_cell_guid": "b1076dfc-b9ad-4769-8c92-a6c4dae69d19",
    "_uuid": "8f2839f25d086af736a60e9eeb907d3b93b6e0e5",
    "execution": {
     "iopub.execute_input": "2024-10-30T20:53:30.263680Z",
     "iopub.status.busy": "2024-10-30T20:53:30.263156Z",
     "iopub.status.idle": "2024-10-30T20:53:46.902642Z",
     "shell.execute_reply": "2024-10-30T20:53:46.901124Z"
    },
    "papermill": {
     "duration": 16.649594,
     "end_time": "2024-10-30T20:53:46.905625",
     "exception": false,
     "start_time": "2024-10-30T20:53:30.256031",
     "status": "completed"
    },
    "tags": []
   },
   "outputs": [
    {
     "name": "stdout",
     "output_type": "stream",
     "text": [
      "Requirement already satisfied: scikit-learn in /opt/conda/lib/python3.10/site-packages (1.2.2)\r\n",
      "Requirement already satisfied: numpy in /opt/conda/lib/python3.10/site-packages (1.26.4)\r\n",
      "Requirement already satisfied: pandas in /opt/conda/lib/python3.10/site-packages (2.2.3)\r\n",
      "Requirement already satisfied: scipy>=1.3.2 in /opt/conda/lib/python3.10/site-packages (from scikit-learn) (1.14.1)\r\n",
      "Requirement already satisfied: joblib>=1.1.1 in /opt/conda/lib/python3.10/site-packages (from scikit-learn) (1.4.2)\r\n",
      "Requirement already satisfied: threadpoolctl>=2.0.0 in /opt/conda/lib/python3.10/site-packages (from scikit-learn) (3.5.0)\r\n",
      "Requirement already satisfied: python-dateutil>=2.8.2 in /opt/conda/lib/python3.10/site-packages (from pandas) (2.9.0.post0)\r\n",
      "Requirement already satisfied: pytz>=2020.1 in /opt/conda/lib/python3.10/site-packages (from pandas) (2024.1)\r\n",
      "Requirement already satisfied: tzdata>=2022.7 in /opt/conda/lib/python3.10/site-packages (from pandas) (2024.1)\r\n",
      "Requirement already satisfied: six>=1.5 in /opt/conda/lib/python3.10/site-packages (from python-dateutil>=2.8.2->pandas) (1.16.0)\r\n"
     ]
    }
   ],
   "source": [
    "import numpy as np\n",
    "import pandas as pd\n",
    "import seaborn as sns\n",
    "import matplotlib.pyplot as plt\n",
    "\n",
    "from sklearn.preprocessing import StandardScaler\n",
    "from sklearn.neighbors import KNeighborsClassifier\n",
    "from sklearn.model_selection import train_test_split\n",
    "from sklearn.model_selection import cross_val_score\n",
    "from sklearn.metrics import accuracy_score\n",
    "from sklearn.metrics import confusion_matrix, classification_report\n",
    "\n",
    "\n",
    "!pip install scikit-learn numpy pandas"
   ]
  },
  {
   "cell_type": "code",
   "execution_count": 2,
   "id": "b73cd5a5",
   "metadata": {
    "execution": {
     "iopub.execute_input": "2024-10-30T20:53:46.917872Z",
     "iopub.status.busy": "2024-10-30T20:53:46.917018Z",
     "iopub.status.idle": "2024-10-30T20:53:47.016500Z",
     "shell.execute_reply": "2024-10-30T20:53:47.014829Z"
    },
    "papermill": {
     "duration": 0.108663,
     "end_time": "2024-10-30T20:53:47.019253",
     "exception": false,
     "start_time": "2024-10-30T20:53:46.910590",
     "status": "completed"
    },
    "tags": []
   },
   "outputs": [
    {
     "name": "stdout",
     "output_type": "stream",
     "text": [
      "         0         1       2       3       4         5        6        7   \\\n",
      "0   28.7967   16.0021  2.6449  0.3918  0.1982   27.7004  22.0110  -8.2027   \n",
      "1   31.6036   11.7235  2.5185  0.5303  0.3773   26.2722  23.8238  -9.9574   \n",
      "2  162.0520  136.0310  4.0612  0.0374  0.0187  116.7410 -64.8580 -45.2160   \n",
      "3   23.8172    9.5728  2.3385  0.6147  0.3922   27.2107  -6.4633  -7.1513   \n",
      "4   75.1362   30.9205  3.1611  0.3168  0.1832   -5.5277  28.5525  21.8393   \n",
      "\n",
      "        8         9  10  \n",
      "0  40.0920   81.8828  g  \n",
      "1   6.3609  205.2610  g  \n",
      "2  76.9600  256.7880  g  \n",
      "3  10.4490  116.7370  g  \n",
      "4   4.6480  356.4620  g   \n",
      "\n",
      "Gamma class size: 12332\n",
      "Hadron class size: 6688\n"
     ]
    }
   ],
   "source": [
    "data = pd.read_csv('/kaggle/input/dataset1/magic04.data', delimiter=',', header=None)\n",
    "print(data.head(),\"\\n\")\n",
    "gamma_data = data[data.iloc[:, -1] == 'g'] \n",
    "hadron_data = data[data.iloc[:, -1] == 'h']\n",
    "\n",
    "print(f\"Gamma class size: {len(gamma_data)}\")\n",
    "print(f\"Hadron class size: {len(hadron_data)}\")"
   ]
  },
  {
   "cell_type": "code",
   "execution_count": 3,
   "id": "13d65a5b",
   "metadata": {
    "execution": {
     "iopub.execute_input": "2024-10-30T20:53:47.031044Z",
     "iopub.status.busy": "2024-10-30T20:53:47.030587Z",
     "iopub.status.idle": "2024-10-30T20:53:47.052697Z",
     "shell.execute_reply": "2024-10-30T20:53:47.051299Z"
    },
    "papermill": {
     "duration": 0.030898,
     "end_time": "2024-10-30T20:53:47.055162",
     "exception": false,
     "start_time": "2024-10-30T20:53:47.024264",
     "status": "completed"
    },
    "tags": []
   },
   "outputs": [
    {
     "name": "stdout",
     "output_type": "stream",
     "text": [
      "Gamma class size: 6688\n",
      "Hadron class size: 6688\n"
     ]
    }
   ],
   "source": [
    "gamma_data = gamma_data.sample(n=len(hadron_data), random_state=42)\n",
    "\n",
    "data = pd.concat([gamma_data, hadron_data]).sample(frac=1, random_state=42)\n",
    "\n",
    "new_gamma_data = data[data.iloc[:, -1] == 'g'] \n",
    "new_hadron_data = data[data.iloc[:, -1] == 'h']\n",
    "\n",
    "print(f\"Gamma class size: {len(new_gamma_data)}\")\n",
    "print(f\"Hadron class size: {len(new_hadron_data)}\")"
   ]
  },
  {
   "cell_type": "code",
   "execution_count": 4,
   "id": "70a98913",
   "metadata": {
    "execution": {
     "iopub.execute_input": "2024-10-30T20:53:47.067054Z",
     "iopub.status.busy": "2024-10-30T20:53:47.066644Z",
     "iopub.status.idle": "2024-10-30T20:53:47.224878Z",
     "shell.execute_reply": "2024-10-30T20:53:47.223652Z"
    },
    "papermill": {
     "duration": 0.167244,
     "end_time": "2024-10-30T20:53:47.227462",
     "exception": false,
     "start_time": "2024-10-30T20:53:47.060218",
     "status": "completed"
    },
    "tags": []
   },
   "outputs": [
    {
     "name": "stdout",
     "output_type": "stream",
     "text": [
      "Train size: 9363, Validation size: 2006, Test size: 2007\n",
      "Datasets saved successfully.\n"
     ]
    }
   ],
   "source": [
    "train_data, temp_data = train_test_split(data, test_size=0.3, random_state=42, shuffle=True)\n",
    "val_data, test_data = train_test_split(temp_data, test_size=0.5, random_state=42, shuffle=True)\n",
    "\n",
    "print(f\"Train size: {len(train_data)}, Validation size: {len(val_data)}, Test size: {len(test_data)}\")\n",
    "\n",
    "train_data.to_csv('train_magic_gamma_telescope.csv', index=False, header=False)\n",
    "val_data.to_csv('val_magic_gamma_telescope.csv', index=False, header=False)\n",
    "test_data.to_csv('test_magic_gamma_telescope.csv', index=False, header=False)\n",
    "\n",
    "print(\"Datasets saved successfully.\")"
   ]
  },
  {
   "cell_type": "code",
   "execution_count": 5,
   "id": "d856f52d",
   "metadata": {
    "execution": {
     "iopub.execute_input": "2024-10-30T20:53:47.239963Z",
     "iopub.status.busy": "2024-10-30T20:53:47.239505Z",
     "iopub.status.idle": "2024-10-30T20:53:47.292032Z",
     "shell.execute_reply": "2024-10-30T20:53:47.286795Z"
    },
    "papermill": {
     "duration": 0.063203,
     "end_time": "2024-10-30T20:53:47.296021",
     "exception": false,
     "start_time": "2024-10-30T20:53:47.232818",
     "status": "completed"
    },
    "tags": []
   },
   "outputs": [
    {
     "name": "stdout",
     "output_type": "stream",
     "text": [
      "\u001b[1mTrain dataset:\u001b[0m\n",
      "         0        1       2       3       4        5        6        7   \\\n",
      "0  54.1474  11.5880  2.5172  0.3404  0.1839  10.6862  44.0607   6.7006   \n",
      "1  57.4554  33.5540  3.8393  0.1653  0.0833   8.7301  59.3980   6.0683   \n",
      "2  23.1450  14.3228  2.5843  0.5000  0.2773 -11.0961  -9.2080   3.7516   \n",
      "3  23.6517  16.7376  2.7763  0.4050  0.2435   1.3517  -9.0462 -10.0562   \n",
      "4  88.5788  32.7777  3.7263  0.1536  0.0799 -85.1150  73.6068 -21.8818   \n",
      "\n",
      "        8        9  10  \n",
      "0  32.4320  120.989  h  \n",
      "1   3.3790  137.650  g  \n",
      "2  66.6152  219.329  g  \n",
      "3  10.8160  197.083  g  \n",
      "4   4.6221  314.254  g   \n",
      "\n",
      "\u001b[1mValidation dataset :\u001b[0m \n",
      "          0        1       2       3       4         5         6        7   \\\n",
      "0  136.3197  30.3326  2.9539  0.5035  0.2868 -119.3438  -66.6610 -17.6572   \n",
      "1  119.6410  39.7995  2.8701  0.6069  0.4525  -70.4334 -114.2610 -43.2190   \n",
      "2   47.7956  15.0152  2.6950  0.3653  0.1826   28.8167   32.8780  -7.7357   \n",
      "3   25.4038  11.4504  2.6609  0.5721  0.3439   12.9142   25.8025  -7.7300   \n",
      "4   17.2673   5.2644  2.5720  0.6784  0.3475   -0.2115  -21.5882   7.2428   \n",
      "\n",
      "        8         9  10  \n",
      "0  24.2187  286.9860  h  \n",
      "1  36.5720  381.6780  h  \n",
      "2  31.2400  203.7920  h  \n",
      "3  18.3364  203.3120  h  \n",
      "4  73.7293  178.6443  h   \n",
      "\n",
      "\u001b[1mTest datset : \u001b[0m\n",
      "           0        1       2       3       4        5         6        7   \\\n",
      "0   48.9652  17.4282  2.9922  0.2808  0.1742 -32.7891   15.2580   8.6516   \n",
      "1   20.7519  17.6292  2.5688  0.4265  0.2632 -10.4622  -11.4686  12.2482   \n",
      "2   18.1318   9.4712  2.1281  0.5086  0.2864 -41.5014   20.8547  -4.8252   \n",
      "3  114.0852  63.8513  3.5737  0.1523  0.0806  13.2867  112.4123 -19.5804   \n",
      "4  212.7440  43.2242  3.1905  0.1361  0.0687 -95.1854 -197.6630 -42.3887   \n",
      "\n",
      "        8         9  10  \n",
      "0  61.9208  151.4106  h  \n",
      "1   3.8590   68.7853  g  \n",
      "2  38.1823  156.8649  h  \n",
      "3  32.3461  164.4920  h  \n",
      "4  30.6980  243.7520  h  \n"
     ]
    }
   ],
   "source": [
    "train_data = pd.read_csv('/kaggle/working/train_magic_gamma_telescope.csv', header=None)\n",
    "val_data = pd.read_csv('/kaggle/working/val_magic_gamma_telescope.csv', header=None)\n",
    "test_data = pd.read_csv('/kaggle/working/test_magic_gamma_telescope.csv', header=None)\n",
    "\n",
    "# Display the first few rows of the training dataset\n",
    "print(\"\\033[1mTrain dataset:\\033[0m\\n\", train_data.head(), \"\\n\")\n",
    "print(\"\\033[1mValidation dataset :\\033[0m \\n\" , val_data.head() , \"\\n\")\n",
    "print(\"\\033[1mTest datset : \\033[0m\\n \" , test_data.head())\n"
   ]
  },
  {
   "cell_type": "code",
   "execution_count": 6,
   "id": "e60e8914",
   "metadata": {
    "execution": {
     "iopub.execute_input": "2024-10-30T20:53:47.309913Z",
     "iopub.status.busy": "2024-10-30T20:53:47.308813Z",
     "iopub.status.idle": "2024-10-30T20:53:47.318187Z",
     "shell.execute_reply": "2024-10-30T20:53:47.316838Z"
    },
    "papermill": {
     "duration": 0.018949,
     "end_time": "2024-10-30T20:53:47.320790",
     "exception": false,
     "start_time": "2024-10-30T20:53:47.301841",
     "status": "completed"
    },
    "tags": []
   },
   "outputs": [],
   "source": [
    "class_column_index = train_data.shape[1] - 1\n",
    "\n",
    "# Training data\n",
    "X_train = train_data.iloc[:, :-1]  \n",
    "y_train = train_data.iloc[:, class_column_index] \n",
    "\n",
    "# Validation data\n",
    "X_val = val_data.iloc[:, :-1]\n",
    "y_val = val_data.iloc[:, class_column_index]\n",
    "\n",
    "# Testing data\n",
    "X_test = test_data.iloc[:, :-1]\n",
    "y_test = test_data.iloc[:, class_column_index]\n"
   ]
  },
  {
   "cell_type": "code",
   "execution_count": 7,
   "id": "70790dd1",
   "metadata": {
    "execution": {
     "iopub.execute_input": "2024-10-30T20:53:47.335357Z",
     "iopub.status.busy": "2024-10-30T20:53:47.334040Z",
     "iopub.status.idle": "2024-10-30T20:53:47.349951Z",
     "shell.execute_reply": "2024-10-30T20:53:47.348457Z"
    },
    "papermill": {
     "duration": 0.026235,
     "end_time": "2024-10-30T20:53:47.352744",
     "exception": false,
     "start_time": "2024-10-30T20:53:47.326509",
     "status": "completed"
    },
    "tags": []
   },
   "outputs": [],
   "source": [
    "scaler = StandardScaler()\n",
    "\n",
    "X_train_scaled = scaler.fit_transform(X_train)\n",
    "X_val_scaled = scaler.transform(X_val)\n",
    "X_test_scaled = scaler.transform(X_test)\n"
   ]
  },
  {
   "cell_type": "raw",
   "id": "b4d26ea5",
   "metadata": {
    "papermill": {
     "duration": 0.006251,
     "end_time": "2024-10-30T20:53:47.364494",
     "exception": false,
     "start_time": "2024-10-30T20:53:47.358243",
     "status": "completed"
    },
    "tags": []
   },
   "source": [
    "Scale the Features\n",
    "K-NN is sensitive to the scale of the features, so it's a good idea to standardize or normalize our feature set. We can use StandardScaler from scikit-learn.\n",
    "Here, an instance of StandardScaler is created. This object will be used to compute the mean and standard deviation for scaling.\n",
    "scaler.fit_transform(X_train) fits the scaler to the training data (X_train), calculating the mean and standard deviation for each feature, and then applies the transformation to scale the features.\n",
    "The transformed training data, now scaled, is stored in X_train_scaled. This means that each feature in X_train_scaled has a mean of 0 and a standard deviation of 1."
   ]
  },
  {
   "cell_type": "code",
   "execution_count": 8,
   "id": "41b748c2",
   "metadata": {
    "execution": {
     "iopub.execute_input": "2024-10-30T20:53:47.379478Z",
     "iopub.status.busy": "2024-10-30T20:53:47.379043Z",
     "iopub.status.idle": "2024-10-30T20:53:52.801738Z",
     "shell.execute_reply": "2024-10-30T20:53:52.800491Z"
    },
    "papermill": {
     "duration": 5.434037,
     "end_time": "2024-10-30T20:53:52.804367",
     "exception": false,
     "start_time": "2024-10-30T20:53:47.370330",
     "status": "completed"
    },
    "tags": []
   },
   "outputs": [
    {
     "name": "stdout",
     "output_type": "stream",
     "text": [
      "Accuracy for k=1: 0.7841\n",
      "Accuracy for k=2: 0.7802\n",
      "Accuracy for k=3: 0.8026\n",
      "Accuracy for k=4: 0.7921\n",
      "Accuracy for k=5: 0.7981\n",
      "Accuracy for k=6: 0.7986\n",
      "Accuracy for k=7: 0.8086\n",
      "Accuracy for k=8: 0.7966\n",
      "Accuracy for k=9: 0.8036\n",
      "Accuracy for k=10: 0.8031\n",
      "Accuracy for k=11: 0.8011\n",
      "Accuracy for k=12: 0.8011\n",
      "Accuracy for k=13: 0.8086\n",
      "Accuracy for k=14: 0.8011\n",
      "Accuracy for k=15: 0.8036\n",
      "Accuracy for k=16: 0.7991\n",
      "Accuracy for k=17: 0.8111\n",
      "Accuracy for k=18: 0.8006\n",
      "Accuracy for k=19: 0.8041\n",
      "Accuracy for k=20: 0.7976\n",
      "Best k: 17 with accuracy: 0.8111\n"
     ]
    },
    {
     "data": {
      "image/png": "[encoded data removed]",
      "text/plain": [
       "<Figure size 640x480 with 1 Axes>"
      ]
     },
     "metadata": {},
     "output_type": "display_data"
    }
   ],
   "source": [
    "k_values = range(1, 21) \n",
    "\n",
    "best_k = None\n",
    "best_accuracy = 0\n",
    "scores = []\n",
    "\n",
    "for k in k_values:\n",
    "    knn = KNeighborsClassifier(n_neighbors=k)\n",
    "  \n",
    "    knn.fit(X_train_scaled, y_train)\n",
    "    \n",
    "    y_val_pred = knn.predict(X_val_scaled)\n",
    "    \n",
    "    accuracy = accuracy_score(y_val, y_val_pred)\n",
    "    scores.append(accuracy)\n",
    "    print(f'Accuracy for k={k}: {accuracy:.4f}')\n",
    "    \n",
    "    if accuracy > best_accuracy:\n",
    "        best_accuracy = accuracy\n",
    "        best_k = k\n",
    "\n",
    "print(f'Best k: {best_k} with accuracy: {best_accuracy:.4f}')\n",
    "plt.plot(range(1,21),scores)\n",
    "plt.show()"
   ]
  },
  {
   "cell_type": "markdown",
   "id": "6428ff5f",
   "metadata": {
    "papermill": {
     "duration": 0.007738,
     "end_time": "2024-10-30T20:53:52.819585",
     "exception": false,
     "start_time": "2024-10-30T20:53:52.811847",
     "status": "completed"
    },
    "tags": []
   },
   "source": [
    "Choice of k: \n",
    "Generally, small values of k can lead to noise in the predictions, while larger values make the model more robust but can smooth out important features. It’s often useful to start with small k values and gradually increase.\n",
    "Cross-Validation: For a more robust evaluation, we can use cross-validation instead of a single validation set to assess the performance of each \n",
    "k. This helps to mitigate overfitting and ensures our model generalizes well."
   ]
  },
  {
   "cell_type": "code",
   "execution_count": 9,
   "id": "4099798b",
   "metadata": {
    "execution": {
     "iopub.execute_input": "2024-10-30T20:53:52.836326Z",
     "iopub.status.busy": "2024-10-30T20:53:52.835854Z",
     "iopub.status.idle": "2024-10-30T20:56:43.069621Z",
     "shell.execute_reply": "2024-10-30T20:56:43.068224Z"
    },
    "papermill": {
     "duration": 170.254991,
     "end_time": "2024-10-30T20:56:43.082062",
     "exception": false,
     "start_time": "2024-10-30T20:53:52.827071",
     "status": "completed"
    },
    "tags": []
   },
   "outputs": [
    {
     "name": "stdout",
     "output_type": "stream",
     "text": [
      " k: 1 with score: 0.7819\n",
      " k: 3 with score: 0.8022\n",
      " k: 5 with score: 0.8071\n",
      " k: 7 with score: 0.8135\n"
     ]
    },
    {
     "data": {
      "image/png": "[encoded data removed]",
      "text/plain": [
       "<Figure size 640x480 with 1 Axes>"
      ]
     },
     "metadata": {},
     "output_type": "display_data"
    },
    {
     "name": "stdout",
     "output_type": "stream",
     "text": [
      "7\n",
      "0.8135219695518522\n"
     ]
    }
   ],
   "source": [
    "greatestScore = 0\n",
    "greatestK = 0\n",
    "scores = []\n",
    "for k in range(1,100):\n",
    "    model = KNeighborsClassifier(n_neighbors=k)\n",
    "    z = cross_val_score(model, X_train_scaled, y_train, cv=10)\n",
    "    scores.append(z.mean())\n",
    "    score = z.mean()\n",
    "    if score > greatestScore:\n",
    "        greatestScore = score\n",
    "        greatestK = k\n",
    "        print(f' k: {k} with score: {score:.4f}')\n",
    "plt.plot(range(1,100),scores)\n",
    "plt.show()\n",
    "print(greatestK)\n",
    "print(greatestScore)"
   ]
  },
  {
   "cell_type": "markdown",
   "id": "a8ba6493",
   "metadata": {
    "papermill": {
     "duration": 0.008607,
     "end_time": "2024-10-30T20:56:43.099902",
     "exception": false,
     "start_time": "2024-10-30T20:56:43.091295",
     "status": "completed"
    },
    "tags": []
   },
   "source": [
    "\n",
    "1. Validation Split vs Cross-Validation Approach\n",
    "First Snippet:\n",
    "Separate validation set: It trains the KNN model on the training data (X_train_scaled, y_train) and evaluates it on a fixed validation set (X_val_scaled, y_val).\n",
    "Evaluation Method: Uses the accuracy_score metric for evaluation on the validation set.\n",
    "Second Snippet:\n",
    "Cross-validation: Uses 10-fold cross-validation (through cross_val_score) to estimate the model’s performance by splitting the training data into multiple folds.\n",
    "Evaluation Method: The cv=10 parameter ensures that the data is split into 10 folds, and the mean of the accuracy scores across the folds is used for each k.\n",
    "2. Range of k Values\n",
    "First Snippet:\n",
    "Tests k values from 1 to 20.\n",
    "Second Snippet:\n",
    "Tests k values from 1 to 99 for a more exhaustive search.\n",
    "3. Performance Evaluation Granularity\n",
    "First Snippet:\n",
    "\n",
    "Trains and tests the model once per k value (since it uses a single validation set). The risk here is that the result may not generalize well if the validation set isn't representative.\n",
    "Second Snippet:\n",
    "\n",
    "More reliable performance estimate using cross-validation. By splitting the data into multiple folds, it provides a better estimate of the model's accuracy and reduces the chance of overfitting to a specific validation set.\n",
    "4. Code Logic and Flow Differences\n",
    "First Snippet:\n",
    "Uses accuracy_score to calculate performance.\n",
    "Tracks the best_k and best_accuracy during the loop.\n",
    "Plots results for k from 1 to 20.\n",
    "Second Snippet:\n",
    "Uses cross_val_score to evaluate the model over multiple folds.\n",
    "Tracks the greatestK with the highest average cross-validation score.\n",
    "Plots results for k from 1 to 99.\n",
    "5. When to Use Each Approach\n",
    "First Approach (Validation Split):\n",
    "Useful when you already have a separate validation set available and want a quick comparison.\n",
    "Faster because it trains the model once per k.\n",
    "Second Approach (Cross-Validation):\n",
    "Recommended for smaller datasets or when you want a more robust estimate of model performance.\n",
    "More computationally intensive, as the model is trained and evaluated multiple times (once per fold).\n",
    "\n",
    "6. Conclusion\n",
    "Both approaches are valid, but the second snippet (cross-validation) is generally more reliable for hyperparameter tuning because it reduces the risk of overfitting to a specific validation set. However, if you have a large dataset with a separate validation split, the first approach might be faste"
   ]
  },
  {
   "cell_type": "markdown",
   "id": "729e9293",
   "metadata": {
    "papermill": {
     "duration": 0.01029,
     "end_time": "2024-10-30T20:56:43.118505",
     "exception": false,
     "start_time": "2024-10-30T20:56:43.108215",
     "status": "completed"
    },
    "tags": []
   },
   "source": [
    "Model Comparison (Validation vs. Cross-Validation Results):\n",
    "\n",
    "It’s observed that best_k from simple validation was 17, while cross-validation suggested a slightly better value at 7. our conditional selection based on cross-validation provides robustness to our final model choice.\n",
    "The accuracy on the test set (0.8042) is reasonably consistent with validation accuracy, which suggests the model generalizes well."
   ]
  },
  {
   "cell_type": "code",
   "execution_count": 10,
   "id": "fd213f22",
   "metadata": {
    "execution": {
     "iopub.execute_input": "2024-10-30T20:56:43.136982Z",
     "iopub.status.busy": "2024-10-30T20:56:43.136536Z",
     "iopub.status.idle": "2024-10-30T20:56:43.431745Z",
     "shell.execute_reply": "2024-10-30T20:56:43.430521Z"
    },
    "papermill": {
     "duration": 0.307577,
     "end_time": "2024-10-30T20:56:43.434357",
     "exception": false,
     "start_time": "2024-10-30T20:56:43.126780",
     "status": "completed"
    },
    "tags": []
   },
   "outputs": [
    {
     "name": "stdout",
     "output_type": "stream",
     "text": [
      "Test set accuracy: 0.8042\n"
     ]
    }
   ],
   "source": [
    "if(greatestK > best_k):\n",
    "    knn_best = KNeighborsClassifier(n_neighbors=greatestK)\n",
    "else:\n",
    "     knn_best = KNeighborsClassifier(n_neighbors=best_k)\n",
    "\n",
    "# Fit the model on the entire training set\n",
    "knn_best.fit(X_train_scaled, y_train)\n",
    "\n",
    "# Predict on the test set\n",
    "y_test_pred = knn_best.predict(X_test_scaled)\n",
    "\n",
    "# Calculate accuracy on the test set\n",
    "test_accuracy = accuracy_score(y_test, y_test_pred)\n",
    "print(f'Test set accuracy: {test_accuracy:.4f}')\n"
   ]
  },
  {
   "cell_type": "markdown",
   "id": "d7f7d16a",
   "metadata": {
    "papermill": {
     "duration": 0.008789,
     "end_time": "2024-10-30T20:56:43.452258",
     "exception": false,
     "start_time": "2024-10-30T20:56:43.443469",
     "status": "completed"
    },
    "tags": []
   },
   "source": [
    "Optimal k Selection and Validation:\n",
    "\n",
    "Cross-Validation Results: Using cross-validation, the best k was determined to be 7, with a validation accuracy of 81.35%, while a direct validation gave a best k of 17 with slightly lower accuracy. The consistency between cross-validation and validation results reinforces the reliability of the final choice, with k=7 striking a balance between capturing local structure and generalizability.\n",
    "Effect of Scaling: Standardizing the features was essential for achieving good performance with KNN, as unscaled features would skew distance calculations, potentially degrading model accuracy."
   ]
  },
  {
   "cell_type": "markdown",
   "id": "c0b89785",
   "metadata": {
    "papermill": {
     "duration": 0.008504,
     "end_time": "2024-10-30T20:56:43.470095",
     "exception": false,
     "start_time": "2024-10-30T20:56:43.461591",
     "status": "completed"
    },
    "tags": []
   },
   "source": [
    "Accuracy: With a test accuracy of 80.42%, the KNN model demonstrates fairly strong overall performance, correctly classifying the majority of Gamma and Hadron events. Given that the dataset is balanced, this accuracy indicates a reliable model performance.\n"
   ]
  },
  {
   "cell_type": "code",
   "execution_count": 11,
   "id": "23b215be",
   "metadata": {
    "execution": {
     "iopub.execute_input": "2024-10-30T20:56:43.491992Z",
     "iopub.status.busy": "2024-10-30T20:56:43.491496Z",
     "iopub.status.idle": "2024-10-30T20:56:43.582995Z",
     "shell.execute_reply": "2024-10-30T20:56:43.581417Z"
    },
    "papermill": {
     "duration": 0.106102,
     "end_time": "2024-10-30T20:56:43.585594",
     "exception": false,
     "start_time": "2024-10-30T20:56:43.479492",
     "status": "completed"
    },
    "tags": []
   },
   "outputs": [
    {
     "name": "stdout",
     "output_type": "stream",
     "text": [
      "Confusion Matrix:\n",
      "[[863 111]\n",
      " [282 751]]\n",
      "Classification Report:\n",
      "              precision    recall  f1-score   support\n",
      "\n",
      "           g       0.75      0.89      0.81       974\n",
      "           h       0.87      0.73      0.79      1033\n",
      "\n",
      "    accuracy                           0.80      2007\n",
      "   macro avg       0.81      0.81      0.80      2007\n",
      "weighted avg       0.81      0.80      0.80      2007\n",
      "\n"
     ]
    }
   ],
   "source": [
    "conf_matrix = confusion_matrix(y_test, y_test_pred)\n",
    "print(\"Confusion Matrix:\")\n",
    "print(conf_matrix)\n",
    "\n",
    "class_report = classification_report(y_test, y_test_pred)\n",
    "print(\"Classification Report:\")\n",
    "print(class_report)\n"
   ]
  },
  {
   "cell_type": "code",
   "execution_count": 12,
   "id": "24b2580b",
   "metadata": {
    "execution": {
     "iopub.execute_input": "2024-10-30T20:56:43.604592Z",
     "iopub.status.busy": "2024-10-30T20:56:43.604051Z",
     "iopub.status.idle": "2024-10-30T20:56:43.907922Z",
     "shell.execute_reply": "2024-10-30T20:56:43.906704Z"
    },
    "papermill": {
     "duration": 0.316332,
     "end_time": "2024-10-30T20:56:43.910600",
     "exception": false,
     "start_time": "2024-10-30T20:56:43.594268",
     "status": "completed"
    },
    "tags": []
   },
   "outputs": [
    {
     "data": {
      "image/png": "[encoded data removed]",
      "text/plain": [
       "<Figure size 800x600 with 2 Axes>"
      ]
     },
     "metadata": {},
     "output_type": "display_data"
    }
   ],
   "source": [
    "plt.figure(figsize=(8, 6))\n",
    "sns.heatmap(conf_matrix, annot=True, fmt='d', cmap='Blues', \n",
    "            xticklabels=['Hadrons', 'Gammas'], yticklabels=['Hadrons', 'Gammas'])\n",
    "plt.ylabel('Actual')\n",
    "plt.xlabel('Predicted')\n",
    "plt.title('Confusion Matrix')\n",
    "plt.show()\n"
   ]
  },
  {
   "cell_type": "markdown",
   "id": "77c3896d",
   "metadata": {
    "papermill": {
     "duration": 0.009218,
     "end_time": "2024-10-30T20:56:43.929485",
     "exception": false,
     "start_time": "2024-10-30T20:56:43.920267",
     "status": "completed"
    },
    "tags": []
   },
   "source": [
    "### 1. **Precision and Recall Balance**\n",
    "\n",
    "   - **Precision** for `h` (Hadron) is slightly higher than for `g` (Gamma). This indicates that, when the model predicts an instance as `h`, it is more often correct than when it predicts an instance as `g`. This high precision for `h` means the model is cautious with Hadron predictions, likely due to the stronger separation of Hadron instances in the feature space.\n",
    "   - **Recall** for `h` is slightly lower than for `g`, indicating the model is missing a few instances of Hadron that it should ideally classify as such. This lower recall for `h` implies that some Hadron instances are being misclassified as Gamma, possibly because they are closer to Gamma instances in the feature space.\n",
    "\n",
    "   **Interpretation**: This pattern suggests the model is tuned to avoid false positives for Hadron at the cost of missing a few instances of it. Precision being higher for `h` means the model is more conservative when predicting Hadrons, while slightly higher recall for `g` indicates it’s more lenient in classifying Gammas.\n",
    "\n",
    "### 2. **F1 Score Analysis**\n",
    "\n",
    "   - The **F1 score** balances precision and recall, and here it’s around 0.80 for both `g` and `h` classes. This balanced F1 score shows that the model has a reasonable trade-off between capturing correct instances (recall) and minimizing incorrect ones (precision).\n",
    "   - **Balanced Performance**: The F1 score being similar for both classes reflects that the model is managing both false positives and false negatives effectively, offering balanced classification without heavily favoring one class over the other.\n",
    "\n",
    "   **Interpretation**: Given the F1 score’s balance, the model is fairly reliable in distinguishing between Gamma and Hadron classes and maintains a strong performance for each, with minimal bias toward either class.\n",
    "\n",
    "### 3. **Confusion Matrix Insights**\n",
    "\n",
    "   - The **Confusion Matrix** reveals a slight asymmetry between classes, showing higher precision for `h` but higher recall for `g`. Specifically:\n",
    "     - **True Positives for Gamma (g)** are higher, which raises the recall for Gammas, indicating the model is catching more Gamma instances correctly.\n",
    "     - **False Negatives for Hadron (h)** are relatively higher, resulting in a slight reduction in recall for Hadron. This suggests that some Hadron instances may have characteristics that make them harder to distinguish from Gammas.\n",
    "\n",
    "   **Interpretation**: The model is slightly better at correctly identifying Hadrons than Gammas but does miss some Hadron instances, potentially due to overlapping feature characteristics. This is also reflected in the classification report’s F1 score, which, while balanced, is marginally higher for Gamma (`g`), suggesting that Gamma instances may be easier to classify correctly.\n",
    "\n",
    "### 4. **Overall Model Evaluation**\n",
    "\n",
    "   - **Accuracy**: With an overall accuracy of 80.42%, the model demonstrates a high level of correct classifications, particularly given the balanced dataset.\n",
    "   - **Balanced Performance**: Precision, recall, and F1-score values for both classes are comparable, reflecting a strong and balanced model that is not significantly biased toward either class.\n",
    "   - **Recall for Hadron (h)**: The recall for `h` is somewhat lower, meaning the model misses a few Hadron instances."
   ]
  }
 ],
 "metadata": {
  "kaggle": {
   "accelerator": "none",
   "dataSources": [
    {
     "datasetId": 5947787,
     "sourceId": 9721320,
     "sourceType": "datasetVersion"
    }
   ],
   "dockerImageVersionId": 30786,
   "isGpuEnabled": false,
   "isInternetEnabled": true,
   "language": "python",
   "sourceType": "notebook"
  },
  "kernelspec": {
   "display_name": "Python 3",
   "language": "python",
   "name": "python3"
  },
  "language_info": {
   "codemirror_mode": {
    "name": "ipython",
    "version": 3
   },
   "file_extension": ".py",
   "mimetype": "text/x-python",
   "name": "python",
   "nbconvert_exporter": "python",
   "pygments_lexer": "ipython3",
   "version": "3.10.14"
  },
  "papermill": {
   "default_parameters": {},
   "duration": 197.38729,
   "end_time": "2024-10-30T20:56:44.662878",
   "environment_variables": {},
   "exception": null,
   "input_path": "__notebook__.ipynb",
   "output_path": "__notebook__.ipynb",
   "parameters": {},
   "start_time": "2024-10-30T20:53:27.275588",
   "version": "2.6.0"
  }
 },
 "nbformat": 4,
 "nbformat_minor": 5
}
