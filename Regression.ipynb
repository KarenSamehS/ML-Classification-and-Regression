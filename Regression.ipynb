{
 "cells": [
  {
   "cell_type": "code",
   "execution_count": 1,
   "id": "446bcfbf",
   "metadata": {
    "_cell_guid": "b1076dfc-b9ad-4769-8c92-a6c4dae69d19",
    "_uuid": "8f2839f25d086af736a60e9eeb907d3b93b6e0e5",
    "execution": {
     "iopub.execute_input": "2024-11-01T22:47:04.258447Z",
     "iopub.status.busy": "2024-11-01T22:47:04.257452Z",
     "iopub.status.idle": "2024-11-01T22:47:06.886024Z",
     "shell.execute_reply": "2024-11-01T22:47:06.884613Z"
    },
    "papermill": {
     "duration": 2.638533,
     "end_time": "2024-11-01T22:47:06.889196",
     "exception": false,
     "start_time": "2024-11-01T22:47:04.250663",
     "status": "completed"
    },
    "tags": []
   },
   "outputs": [],
   "source": [
    "import pandas as pd\n",
    "import numpy as np\n",
    "from sklearn.linear_model import LinearRegression, Lasso\n",
    "from sklearn.metrics import mean_squared_error, r2_score, mean_absolute_error\n",
    "from sklearn.preprocessing import StandardScaler\n",
    "from sklearn.model_selection import train_test_split\n",
    "from sklearn.linear_model import RidgeCV\n",
    "from sklearn.linear_model import LassoCV"
   ]
  },
  {
   "cell_type": "code",
   "execution_count": 2,
   "id": "2ee4522f",
   "metadata": {
    "_cell_guid": "b1076dfc-b9ad-4769-8c92-a6c4dae69d19",
    "_uuid": "8f2839f25d086af736a60e9eeb907d3b93b6e0e5",
    "execution": {
     "iopub.execute_input": "2024-11-01T22:47:06.898486Z",
     "iopub.status.busy": "2024-11-01T22:47:06.897841Z",
     "iopub.status.idle": "2024-11-01T22:47:07.054189Z",
     "shell.execute_reply": "2024-11-01T22:47:07.052903Z"
    },
    "papermill": {
     "duration": 0.163915,
     "end_time": "2024-11-01T22:47:07.056928",
     "exception": false,
     "start_time": "2024-11-01T22:47:06.893013",
     "status": "completed"
    },
    "tags": []
   },
   "outputs": [
    {
     "name": "stdout",
     "output_type": "stream",
     "text": [
      "Training set shape: (14448, 13)\n",
      "Validation set shape: (3096, 13)\n",
      "Testing set shape: (3096, 13)\n"
     ]
    }
   ],
   "source": [
    "# Read the datast from the (.csv) file\n",
    "df = pd.read_csv('/kaggle/input/california-houses/California_Houses.csv')\n",
    "\n",
    "# Get a data frame with selected columns for Features (x)\n",
    "X = df[['Median_Income', 'Median_Age', 'Tot_Rooms',\n",
    "       'Tot_Bedrooms', 'Population', 'Households', 'Latitude', 'Longitude',\n",
    "       'Distance_to_coast', 'Distance_to_LA', 'Distance_to_SanDiego',\n",
    "       'Distance_to_SanJose', 'Distance_to_SanFrancisco']]\n",
    "# Get a data frame with selected column for Target (y)\n",
    "y = df['Median_House_Value'] \n",
    "\n",
    "# Split data into training (70%) and remaining 30% (for validation and test)\n",
    "X_train, X_temp, y_train, y_temp = train_test_split(X, y, test_size=0.3)\n",
    "\n",
    "# Split the remaining 30% into validation (50%) and testing (50%) sets\n",
    "X_val, X_test, y_val, y_test = train_test_split(X_temp, y_temp, test_size=0.5)\n",
    "\n",
    "# Now, you can check the shapes of your splits\n",
    "print(\"Training set shape:\", X_train.shape)\n",
    "print(\"Validation set shape:\", X_val.shape)\n",
    "print(\"Testing set shape:\", X_test.shape)"
   ]
  },
  {
   "cell_type": "code",
   "execution_count": 3,
   "id": "f78cf28a",
   "metadata": {
    "_cell_guid": "b1076dfc-b9ad-4769-8c92-a6c4dae69d19",
    "_uuid": "8f2839f25d086af736a60e9eeb907d3b93b6e0e5",
    "execution": {
     "iopub.execute_input": "2024-11-01T22:47:07.065982Z",
     "iopub.status.busy": "2024-11-01T22:47:07.065544Z",
     "iopub.status.idle": "2024-11-01T22:47:07.135635Z",
     "shell.execute_reply": "2024-11-01T22:47:07.134009Z"
    },
    "papermill": {
     "duration": 0.079728,
     "end_time": "2024-11-01T22:47:07.140380",
     "exception": false,
     "start_time": "2024-11-01T22:47:07.060652",
     "status": "completed"
    },
    "tags": []
   },
   "outputs": [
    {
     "name": "stdout",
     "output_type": "stream",
     "text": [
      ">> Linear Regression <<\n",
      "Mean Absolute Error on Testing Set: 50697.46493298002\n",
      "The Mean Squared Error on Testing Set: 5066777677.918302\n",
      "-------------------------------------------------------\n",
      "Mean Absolute Error on Validation Set: 50254.56554611642\n",
      "The Mean Squared Error on Validation Set: 4804130437.78863\n"
     ]
    }
   ],
   "source": [
    "print(\">> Linear Regression <<\")\n",
    "\n",
    "# Creating a Linear Regression Model\n",
    "model = LinearRegression() \n",
    "\n",
    "# Train the model using the Training Dataset\n",
    "model.fit(X_train, y_train)\n",
    "\n",
    "# Predict the outputs of Test set using the fitted Linear Regression model\n",
    "y_test_pred = model.predict(X_test)\n",
    "\n",
    "# Calculate MSE and MAE of the model across the Test Dataset\n",
    "test_mse = mean_squared_error(y_test, y_test_pred)\n",
    "test_mae = mean_absolute_error(y_test, y_test_pred)\n",
    "print(\"Mean Absolute Error on Testing Set:\", test_mae)\n",
    "print(\"The Mean Squared Error on Testing Set:\", test_mse)\n",
    "print(\"-------------------------------------------------------\")\n",
    "\n",
    "# Predict the outputs of Validation set using the fitted Linear Regression model\n",
    "y_val_pred = model.predict(X_val)\n",
    "\n",
    "# Calculate MSE and MAE of the model across the Test Dataset\n",
    "val_mse = mean_squared_error(y_val, y_val_pred)\n",
    "val_mae = mean_absolute_error(y_val, y_val_pred)\n",
    "print(\"Mean Absolute Error on Validation Set:\", val_mae)\n",
    "print(\"The Mean Squared Error on Validation Set:\", val_mse)\n"
   ]
  },
  {
   "cell_type": "code",
   "execution_count": 4,
   "id": "6fef7000",
   "metadata": {
    "execution": {
     "iopub.execute_input": "2024-11-01T22:47:07.166956Z",
     "iopub.status.busy": "2024-11-01T22:47:07.165763Z",
     "iopub.status.idle": "2024-11-01T22:47:08.140304Z",
     "shell.execute_reply": "2024-11-01T22:47:08.138458Z"
    },
    "papermill": {
     "duration": 0.995035,
     "end_time": "2024-11-01T22:47:08.144498",
     "exception": false,
     "start_time": "2024-11-01T22:47:07.149463",
     "status": "completed"
    },
    "tags": []
   },
   "outputs": [
    {
     "name": "stdout",
     "output_type": "stream",
     "text": [
      ">> Lasso Regression <<\n",
      "Mean Absolute Error on Testing Set: 50698.40893616802\n",
      "The Mean Squared Error on Testing Set: 5066775203.882901\n",
      "-------------------------------------------------------\n",
      "Mean Absolute Error on Validation Set: 50254.70386752037\n",
      "The Mean Squared Error on Validation Set: 4804138583.034417\n"
     ]
    }
   ],
   "source": [
    "print(\">> Lasso Regression <<\")\n",
    "\n",
    "# Creating a Lasso Regression Model\n",
    "lasso_model = Lasso(alpha=3, max_iter=5000)\n",
    "\n",
    "# Train the model using the Training Dataset\n",
    "lasso_model.fit(X_train, y_train)\n",
    "\n",
    "# Predict the outputs of Test dataset using the fitted Lasso Regression model\n",
    "y_test_pred_lasso = lasso_model.predict(X_test)\n",
    "\n",
    "# Calculate MSE and MAE of the model across the Test Dataset\n",
    "test_mse_lasso = mean_squared_error(y_test, y_test_pred_lasso)\n",
    "test_mae_lasso = mean_absolute_error(y_test, y_test_pred_lasso)\n",
    "print(\"Mean Absolute Error on Testing Set:\", test_mae_lasso)\n",
    "print(\"The Mean Squared Error on Testing Set:\", test_mse_lasso)\n",
    "print(\"-------------------------------------------------------\")\n",
    "\n",
    "# Predict the outputs of Validation set using the fitted Lasso Regression model\n",
    "y_val_pred_lasso = lasso_model.predict(X_val)\n",
    "\n",
    "# Calculate MSE and MAE of the model across the Test Dataset\n",
    "val_mse_lasso = mean_squared_error(y_val, y_val_pred_lasso)\n",
    "val_mae_lasso = mean_absolute_error(y_val, y_val_pred_lasso)\n",
    "print(\"Mean Absolute Error on Validation Set:\", val_mae_lasso)\n",
    "print(\"The Mean Squared Error on Validation Set:\", val_mse_lasso)"
   ]
  },
  {
   "cell_type": "code",
   "execution_count": 5,
   "id": "e1574949",
   "metadata": {
    "execution": {
     "iopub.execute_input": "2024-11-01T22:47:08.172520Z",
     "iopub.status.busy": "2024-11-01T22:47:08.171695Z",
     "iopub.status.idle": "2024-11-01T22:47:08.401280Z",
     "shell.execute_reply": "2024-11-01T22:47:08.399622Z"
    },
    "papermill": {
     "duration": 0.254461,
     "end_time": "2024-11-01T22:47:08.406527",
     "exception": false,
     "start_time": "2024-11-01T22:47:08.152066",
     "status": "completed"
    },
    "tags": []
   },
   "outputs": [
    {
     "name": "stdout",
     "output_type": "stream",
     "text": [
      ">> Ridge Regression <<\n",
      "Best alpha: 5.0\n",
      "Mean Absolute Error on Testing Set: 50752.36453271187\n",
      "The Mean Squared Error on Testing Set: 5132429367.847173\n",
      "-------------------------------------------------------\n",
      "Mean Absolute Error on Validation Set: 50602.91857372461\n",
      "The Mean Squared Error on Validation Set: 4888481690.370817\n"
     ]
    }
   ],
   "source": [
    "print(\">> Ridge Regression <<\")\n",
    "\n",
    "# Define a range of alpha values to test\n",
    "alpha_values = [0.01, 0.1, 1, 5, 10, 100]\n",
    "\n",
    "# Initialize RidgeCV with the alpha values\n",
    "ridge_cv = RidgeCV(alphas=alpha_values, store_cv_values=True)  # store_cv_values=True saves cross-validation values\n",
    "ridge_cv.fit(X_train, y_train)\n",
    "\n",
    "# Get the best alpha value  --> hyperparameter tuning with built-in cross-validation instead of\n",
    "best_alpha = ridge_cv.alpha_            # manually tuning using validation set\n",
    "print(f\"Best alpha: {best_alpha}\")\n",
    "\n",
    "y_test_pred_ridge = ridge_cv.predict(X_test)\n",
    "\n",
    "# Calculate the Mean Absolute Error (MSA) and the Mean Squared Error (MSE) on the test set\n",
    "test_mse_ridge = mean_squared_error(y_test, y_test_pred_ridge)\n",
    "test_mae_ridge = mean_absolute_error(y_test, y_test_pred_ridge)\n",
    "print(\"Mean Absolute Error on Testing Set:\", test_mae_ridge)\n",
    "print(\"The Mean Squared Error on Testing Set:\", test_mse_ridge)\n",
    "print(\"-------------------------------------------------------\")\n",
    "\n",
    "# Predict the outputs of the Validation set using the Ridge Regression model\n",
    "y_val_pred_ridge = ridge_cv.predict(X_val)\n",
    "\n",
    "# Calculate MSE and MAE of the model across the Validation Dataset\n",
    "val_mse_ridge = mean_squared_error(y_val, y_val_pred_ridge)\n",
    "val_mae_ridge= mean_absolute_error(y_val, y_val_pred_ridge)\n",
    "print(\"Mean Absolute Error on Validation Set:\", val_mae_ridge)\n",
    "print(\"The Mean Squared Error on Validation Set:\", val_mse_ridge)"
   ]
  },
  {
   "cell_type": "markdown",
   "id": "7f8d3032",
   "metadata": {
    "papermill": {
     "duration": 0.008254,
     "end_time": "2024-11-01T22:47:08.424506",
     "exception": false,
     "start_time": "2024-11-01T22:47:08.416252",
     "status": "completed"
    },
    "tags": []
   },
   "source": [
    "> The difference between linear, lasso, and ridge models :\n",
    "\n",
    "*linear Model :*\n",
    "* The model can sometimes cause overfit if the model is not trained well.\n",
    "* Can be overly sensitive to noise and outliers.\n",
    "*  The linear model can't perform well if the number of features is more than the number\n",
    "of samples, however, lasso and ridge can.\n",
    "\n",
    "*Ridge Model :*\n",
    "* The model won't overfit on the data and will result in better results than linear Regression, \n",
    "because adding (alpha) hyperparameter scales the overfitted equation to be slightly different.\n",
    "It may seem that it caused a relatively bigger cost function in the training set,\n",
    "However, in the test and validation set the classification will be better and have less error (loss). \n",
    "*  when the number of features is more than the number of samples, the ridge model can calculate \n",
    "a valid equation for all the features using l2 regularization.\n",
    "> Doesn't explicitly select features but reduces their impact.\n",
    "\n",
    "*Lasso Model :*\n",
    "* It is the same as the ridge model, however differing the eqn beside the scale\n",
    "factor alpha, it minimizes w (scale/coefficient) of each feature until it reaches zero.\n",
    "This can be useful in adding a lot of redundant features and not related or useful\n",
    "for the training but if all the features are related and useful,\n",
    "Ridge regression will give better results when using l1 regularization.\n",
    "\n",
    "*In Summary :*\n",
    "* Linear Regression: Straightforward but can be sensitive.\n",
    "* Ridge Regression: Smoother, more robust to noise.\n",
    "* Lasso Regression: Simpler, focuses on important features.\n",
    "\n",
    "\n",
    "> This implies to the previous error outputs of our Model, Ridge Regression has the greatest errors,then comes the Lasso Regression, and then the Linear Regression.\n",
    "> Despite Ridge using L2 Regularization, it's very sensitive to the noise in the dataset,While the Lasso removes highly correlated features which lead to less accurate predictions."
   ]
  }
 ],
 "metadata": {
  "kaggle": {
   "accelerator": "none",
   "dataSources": [
    {
     "datasetId": 5947951,
     "sourceId": 9721542,
     "sourceType": "datasetVersion"
    }
   ],
   "dockerImageVersionId": 30786,
   "isGpuEnabled": false,
   "isInternetEnabled": false,
   "language": "python",
   "sourceType": "notebook"
  },
  "kernelspec": {
   "display_name": "Python 3",
   "language": "python",
   "name": "python3"
  },
  "language_info": {
   "codemirror_mode": {
    "name": "ipython",
    "version": 3
   },
   "file_extension": ".py",
   "mimetype": "text/x-python",
   "name": "python",
   "nbconvert_exporter": "python",
   "pygments_lexer": "ipython3",
   "version": "3.10.14"
  },
  "papermill": {
   "default_parameters": {},
   "duration": 8.001209,
   "end_time": "2024-11-01T22:47:09.164569",
   "environment_variables": {},
   "exception": null,
   "input_path": "__notebook__.ipynb",
   "output_path": "__notebook__.ipynb",
   "parameters": {},
   "start_time": "2024-11-01T22:47:01.163360",
   "version": "2.6.0"
  }
 },
 "nbformat": 4,
 "nbformat_minor": 5
}
